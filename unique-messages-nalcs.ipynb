{
 "cells": [
  {
   "cell_type": "code",
   "execution_count": 1,
   "metadata": {
    "collapsed": true
   },
   "outputs": [],
   "source": [
    "import pandas as pd, numpy as np"
   ]
  },
  {
   "cell_type": "code",
   "execution_count": 11,
   "metadata": {
    "collapsed": false
   },
   "outputs": [],
   "source": [
    "# Initializes the data\n",
    "\n",
    "data = pd.read_csv(\"nalcs.csv\").drop(\"Unnamed: 0\", 1)\n",
    "stop = open(\"stop-word-list.txt\").read().splitlines()\n",
    "d = data[data.message.notnull()]"
   ]
  },
  {
   "cell_type": "code",
   "execution_count": 14,
   "metadata": {
    "collapsed": false,
    "scrolled": true
   },
   "outputs": [],
   "source": [
    "# Remove punctuations \n",
    "\n",
    "punctuation_chars = \".,!?:;\\\"'-~|[]()/\\\\\\n\"\n",
    "\n",
    "messages = d.message.str.lower()\n",
    "def remove_punctuations(s):\n",
    "    s = ''.join([i for i in s if i not in frozenset(punctuation_chars)])\n",
    "    return s\n",
    "messages = messages.apply(remove_punctuations)"
   ]
  },
  {
   "cell_type": "code",
   "execution_count": 18,
   "metadata": {
    "collapsed": false
   },
   "outputs": [
    {
     "name": "stdout",
     "output_type": "stream",
     "text": [
      "63072\n"
     ]
    }
   ],
   "source": [
    "# Remove duplicates\n",
    "\n",
    "uniques = set(messages)\n",
    "print(len(uniques))"
   ]
  },
  {
   "cell_type": "code",
   "execution_count": null,
   "metadata": {
    "collapsed": true
   },
   "outputs": [],
   "source": []
  }
 ],
 "metadata": {
  "anaconda-cloud": {},
  "kernelspec": {
   "display_name": "Python [default]",
   "language": "python",
   "name": "python3"
  },
  "language_info": {
   "codemirror_mode": {
    "name": "ipython",
    "version": 3
   },
   "file_extension": ".py",
   "mimetype": "text/x-python",
   "name": "python",
   "nbconvert_exporter": "python",
   "pygments_lexer": "ipython3",
   "version": "3.5.2"
  }
 },
 "nbformat": 4,
 "nbformat_minor": 1
}
