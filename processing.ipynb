{
 "cells": [
  {
   "cell_type": "code",
   "execution_count": 95,
   "metadata": {
    "collapsed": false
   },
   "outputs": [],
   "source": [
    "import pandas, numpy\n",
    "\n",
    "# Initializes data\n",
    "d = pandas.read_csv('clint.csv').drop('Unnamed: 0', 1)\n",
    "stop = open(\"stop-word-list.txt\").read().splitlines()\n",
    "d = d[d.message.notnull()]"
   ]
  },
  {
   "cell_type": "code",
   "execution_count": 98,
   "metadata": {
    "collapsed": false,
    "scrolled": false
   },
   "outputs": [
    {
     "data": {
      "text/plain": [
       "0                                               [pogchamp]\n",
       "1                                               [pogchamp]\n",
       "2                                               [pogchamp]\n",
       "3                                                [heyguys]\n",
       "4                                                 [wooooo]\n",
       "5                                              [hi, clint]\n",
       "6                                               [pogchamp]\n",
       "7                                              [hi, clint]\n",
       "8                                                    [yee]\n",
       "9                                             [hes, alive]\n",
       "10                                    [pogchamp, pogchamp]\n",
       "11                                              [pogchamp]\n",
       "12                                                   [dad]\n",
       "13                                            [hey, clint]\n",
       "14                                  [hey, wanna, play, ow]\n",
       "15                            [clinty, winty, woo, danaww]\n",
       "16                                                 [kappa]\n",
       "17                                         [woooooooooooo]\n",
       "18                                                   [psn]\n",
       "19                                          [hey, clintyo]\n",
       "20                                              [pogchamp]\n",
       "21                                    [hows, going, clint]\n",
       "22                                              [pogchamp]\n",
       "23                               [heyyyyyyyyyyyyyyyyyyyyy]\n",
       "24                                                   [dad]\n",
       "25                              [happy, easter, clintoris]\n",
       "26                                                [clintu]\n",
       "27                                  [hey, clint, tehepelo]\n",
       "28                                             [hi, clint]\n",
       "29                                              [pogchamp]\n",
       "                               ...                        \n",
       "12523                                            [trihard]\n",
       "12524                                                [ori]\n",
       "12525                                 [really, ll, buy, d]\n",
       "12526                                  [miss, real, clint]\n",
       "12527                                             [emotes]\n",
       "12528                                                [lul]\n",
       "12529                            [love, ori, feelsgoodman]\n",
       "12530                                       [feelsgoodman]\n",
       "12531                                       [feelsgoodman]\n",
       "12532    [yeah, worth, money, lots, replay, value, spee...\n",
       "12533                                       [koncha, bard]\n",
       "12534                                           [happened]\n",
       "12535                                      [pure, ossloth]\n",
       "12536                                             [poinyd]\n",
       "12537                                    [s, night, going]\n",
       "12538                                             [clintb]\n",
       "12539                      [conceptually, beautiful, game]\n",
       "12540                                             [points]\n",
       "12541                   [exactly, clintpoints, spam, chat]\n",
       "12542                                        [hello, bard]\n",
       "12543                                              [clint]\n",
       "12544                         [oh, damn, did, clint, quit]\n",
       "12545                                         [just, left]\n",
       "12546    [s, cool, able, say, grew, po, dunk, states, l...\n",
       "12547                                             [supert]\n",
       "12548                                             [energz]\n",
       "12549                                           [babyrage]\n",
       "12550                                             [energz]\n",
       "12551                  [guys, make, happier, twitch, chat]\n",
       "12552                                                [did]\n",
       "Name: message, dtype: object"
      ]
     },
     "execution_count": 98,
     "metadata": {},
     "output_type": "execute_result"
    }
   ],
   "source": [
    "# Cleans message data into a bag of words\n",
    "messages = d.message.str.lower()\n",
    "for p in \".,!?:;\\\"'-~|[]()/\\\\\\n\":\n",
    "    messages = messages.str.replace(p,' ')\n",
    "messages = messages.str.split()\n",
    "messages = messages.apply(lambda x: [w for w in x if w.isalpha() and w not in stop])\n",
    "messages"
   ]
  },
  {
   "cell_type": "code",
   "execution_count": null,
   "metadata": {
    "collapsed": true
   },
   "outputs": [],
   "source": []
  }
 ],
 "metadata": {
  "kernelspec": {
   "display_name": "Python 3",
   "language": "python",
   "name": "python3"
  },
  "language_info": {
   "codemirror_mode": {
    "name": "ipython",
    "version": 3
   },
   "file_extension": ".py",
   "mimetype": "text/x-python",
   "name": "python",
   "nbconvert_exporter": "python",
   "pygments_lexer": "ipython3",
   "version": "3.6.0"
  }
 },
 "nbformat": 4,
 "nbformat_minor": 2
}
