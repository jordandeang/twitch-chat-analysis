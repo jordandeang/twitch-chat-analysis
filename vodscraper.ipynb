{
 "cells": [
  {
   "cell_type": "code",
   "execution_count": null,
   "metadata": {
    "collapsed": false
   },
   "outputs": [],
   "source": [
    "import requests, pandas\n",
    "\n",
    "# Imaqtpie's VOD\n",
    "VOD_URL = 'https://www.twitch.tv/videos/139098558'\n",
    "\n",
    "# Parses VOD ID number from the URL\n",
    "vod_id = VOD_URL[VOD_URL.rfind( '/') + 1:] \n",
    "\n",
    "# Request with timestamp 0 to get error message\n",
    "response = requests.get('https://rechat.twitch.tv/rechat-messages?start=0&video_id=v' + vod_id).json()\n",
    "\n",
    "# Retrieves details of error message and splits into a list of words\n",
    "detail = response['errors'][0]['detail'].split(' ')\n",
    "\n",
    "# Start and stop timestamps\n",
    "start = int(detail[4])\n",
    "stop = int(detail[6])\n",
    "\n",
    "timestamp = start\n",
    "\n",
    "# Run through every 30 second interval from start to stop and extend the data array\n",
    "data = []\n",
    "for timestamp in range(start,stop, 30):\n",
    "    data.extend(requests.get('https://rechat.twitch.tv/rechat-messages?start=' + str(timestamp) + '&video_id=v' + vod_id).json()['data'])\n",
    "    "
   ]
  },
  {
   "cell_type": "code",
   "execution_count": null,
   "metadata": {
    "collapsed": false
   },
   "outputs": [],
   "source": [
    "# Get the attributes and tags from the data\n",
    "data_attributes = [x['attributes'] for x in data]\n",
    "data_tags = [x['attributes']['tags'] for x in data]"
   ]
  },
  {
   "cell_type": "code",
   "execution_count": null,
   "metadata": {
    "collapsed": false,
    "scrolled": false
   },
   "outputs": [],
   "source": [
    "# Create the attribute and tag dataframes and concatenate them\n",
    "d1 = pandas.DataFrame(data_attributes).drop('tags', 1)\n",
    "d2 = pandas.DataFrame(data_tags)\n",
    "d = pandas.concat([d1, d2], axis=1)\n",
    "\n",
    "d.to_csv('imaqtpie.csv')"
   ]
  },
  {
   "cell_type": "code",
   "execution_count": null,
   "metadata": {
    "collapsed": true
   },
   "outputs": [],
   "source": []
  }
 ],
 "metadata": {
  "kernelspec": {
   "display_name": "Python 3",
   "language": "python",
   "name": "python3"
  },
  "language_info": {
   "codemirror_mode": {
    "name": "ipython",
    "version": 3
   },
   "file_extension": ".py",
   "mimetype": "text/x-python",
   "name": "python",
   "nbconvert_exporter": "python",
   "pygments_lexer": "ipython3",
   "version": "3.6.0"
  }
 },
 "nbformat": 4,
 "nbformat_minor": 2
}
